{
 "cells": [
  {
   "cell_type": "markdown",
   "id": "e733c655",
   "metadata": {},
   "source": [
    "## Importing Libraries"
   ]
  },
  {
   "cell_type": "code",
   "execution_count": null,
   "id": "acd1e28d-7fbd-4529-8e7d-7ca1c2b97420",
   "metadata": {},
   "outputs": [],
   "source": [
    "from googleapiclient.discovery import build\n",
    "import pandas as pd\n",
    "import seaborn as sns"
   ]
  },
  {
   "cell_type": "markdown",
   "id": "edbf2116",
   "metadata": {},
   "source": [
    "## API & Connections"
   ]
  },
  {
   "cell_type": "code",
   "execution_count": null,
   "id": "c4ac6af7-5642-41d7-8972-7d110c2fce71",
   "metadata": {},
   "outputs": [],
   "source": [
    "api_key = 'Your API Key'\n",
    "\n",
    "channel_ids = [ \n",
    "                'UCLLw7jmFsvfIVaUFsLs8mlQ',   # Luke Barousse\n",
    "                'UCiT9RITQ9PW6BhXK0y2jaeg',   # Ken Jee\n",
    "                'UC2UXDak6o7rBm23k3Vv5dww',    # Tina Huang\n",
    "                'UCnz-ZXXER4jOvuED5trXfEA'    #techTFQ\n",
    "            ]\n",
    "youtube = build('youtube', 'v3', developerKey=api_key)"
   ]
  },
  {
   "cell_type": "markdown",
   "id": "60d02456",
   "metadata": {},
   "source": [
    "## Function to get channel stats"
   ]
  },
  {
   "cell_type": "code",
   "execution_count": null,
   "id": "23eaa24e",
   "metadata": {},
   "outputs": [],
   "source": [
    "def get_channel_stats(youtube, channel_ids):\n",
    "    all_data = []\n",
    "    request = youtube.channels().list(\n",
    "        part=\"snippet,contentDetails,statistics\",\n",
    "        id=','.join(channel_ids)\n",
    "    )\n",
    "    response = request.execute()\n",
    "    \n",
    "    for i in range(len(response['items'])):\n",
    "        data = dict(channel_name= response['items'][i]['snippet']['title'],\n",
    "                    views= response['items'][i]['statistics']['viewCount'],\n",
    "                    subscribers= response['items'][i]['statistics']['subscriberCount'],\n",
    "                    total_videos= response['items'][i]['statistics']['videoCount'],\n",
    "                    playlist_id= response['items'][i]['contentDetails']['relatedPlaylists']['uploads']\n",
    "\n",
    "        )\n",
    "        all_data.append(data)\n",
    "\n",
    "    return all_data"
   ]
  },
  {
   "cell_type": "code",
   "execution_count": null,
   "id": "b61a4c12",
   "metadata": {},
   "outputs": [],
   "source": [
    "channel_stats= get_channel_stats(youtube, channel_ids)"
   ]
  },
  {
   "cell_type": "markdown",
   "id": "87453dc0",
   "metadata": {},
   "source": [
    "### Creating Channel dataFrame"
   ]
  },
  {
   "cell_type": "code",
   "execution_count": null,
   "id": "590bbfe6",
   "metadata": {},
   "outputs": [],
   "source": [
    "channel_data= pd.DataFrame(channel_stats)"
   ]
  },
  {
   "cell_type": "code",
   "execution_count": null,
   "id": "1eba6bd1",
   "metadata": {},
   "outputs": [],
   "source": [
    "channel_data"
   ]
  },
  {
   "cell_type": "markdown",
   "id": "6dcc5ce2",
   "metadata": {},
   "source": [
    "## Checking Data Types"
   ]
  },
  {
   "cell_type": "code",
   "execution_count": null,
   "id": "5f3375f0",
   "metadata": {},
   "outputs": [],
   "source": [
    "channel_data.dtypes"
   ]
  },
  {
   "cell_type": "markdown",
   "id": "160bee1b",
   "metadata": {},
   "source": [
    "## Converting Data Types"
   ]
  },
  {
   "cell_type": "code",
   "execution_count": null,
   "id": "85b0d0b2",
   "metadata": {},
   "outputs": [],
   "source": [
    "channel_data['subscribers'] = pd.to_numeric(channel_data['subscribers'])\n",
    "channel_data['views'] = pd.to_numeric(channel_data['views'])\n",
    "channel_data['total_videos'] = pd.to_numeric(channel_data['total_videos'])"
   ]
  },
  {
   "cell_type": "code",
   "execution_count": null,
   "id": "d9cea884",
   "metadata": {},
   "outputs": [],
   "source": [
    "channel_data.dtypes"
   ]
  },
  {
   "cell_type": "markdown",
   "id": "21be7db4",
   "metadata": {},
   "source": [
    "## Subscribers Count"
   ]
  },
  {
   "cell_type": "code",
   "execution_count": null,
   "id": "f538ebcf",
   "metadata": {},
   "outputs": [],
   "source": [
    "sns.set(rc={'figure.figsize':(10,4)})\n",
    "subs = sns.barplot(x='channel_name', y='subscribers', data= channel_data, palette=\"pastel\")"
   ]
  },
  {
   "cell_type": "markdown",
   "id": "05209fee",
   "metadata": {},
   "source": [
    "## Views Count"
   ]
  },
  {
   "cell_type": "code",
   "execution_count": null,
   "id": "b1107c55",
   "metadata": {},
   "outputs": [],
   "source": [
    "sns.set(rc={'figure.figsize':(10,4)})\n",
    "views = sns.barplot(x='channel_name', y='views', data= channel_data, palette=\"pastel\")"
   ]
  },
  {
   "cell_type": "markdown",
   "id": "eab2bfd6",
   "metadata": {},
   "source": [
    "## Videos Count"
   ]
  },
  {
   "cell_type": "code",
   "execution_count": null,
   "id": "92264444",
   "metadata": {},
   "outputs": [],
   "source": [
    "sns.set(rc={'figure.figsize':(10,4)})\n",
    "num_of_videos = sns.barplot(x='channel_name', y='total_videos', data= channel_data, palette=\"pastel\")"
   ]
  },
  {
   "cell_type": "markdown",
   "id": "a3456521",
   "metadata": {},
   "source": [
    "## Scrape, Analyze, Visualize (Ken Jee Channel)"
   ]
  },
  {
   "cell_type": "markdown",
   "id": "90ff3080",
   "metadata": {},
   "source": [
    "#### Fetch Video Id"
   ]
  },
  {
   "cell_type": "code",
   "execution_count": null,
   "id": "e7eb5781",
   "metadata": {},
   "outputs": [],
   "source": [
    "playlist_id= channel_data.loc[channel_data['channel_name']=='Ken Jee', 'playlist_id'].iloc[0]\n",
    "playlist_id"
   ]
  },
  {
   "cell_type": "markdown",
   "id": "32ee2874",
   "metadata": {},
   "source": [
    "### Creating Function"
   ]
  },
  {
   "cell_type": "code",
   "execution_count": null,
   "id": "208ce0f4",
   "metadata": {},
   "outputs": [],
   "source": [
    "def get_video_ids(youtube, playlist_id):\n",
    "\n",
    "    request = youtube.playlistItems().list(\n",
    "        part= 'contentDetails',\n",
    "        playlistId= playlist_id, maxResults= 50)\n",
    "\n",
    "    response = request.execute()\n",
    "    video_ids = []\n",
    "     \n",
    "    for i in range(len(response['items'])):\n",
    "        video_ids.append(response['items'][i]['contentDetails']['videoId'])\n",
    "\n",
    "    next_page_token= response.get('nextPageToken')\n",
    "    more_pages = True\n",
    "\n",
    "    while more_pages:\n",
    "        if next_page_token is None:\n",
    "            more_pages = False\n",
    "        else:\n",
    "            request = youtube.playlistItems().list(\n",
    "            part= 'contentDetails',\n",
    "            playlistId= playlist_id, maxResults= 50, pageToken= next_page_token\n",
    "            )\n",
    "            response = request.execute() \n",
    "\n",
    "            for i in range(len(response['items'])):\n",
    "                video_ids.append(response['items'][i]['contentDetails']['videoId'])\n",
    "        \n",
    "            next_page_token =response.get('nextPageToken')\n",
    "\n",
    "    return video_ids"
   ]
  },
  {
   "cell_type": "markdown",
   "id": "2fcd74fc",
   "metadata": {},
   "source": [
    "### Getting Videos ID"
   ]
  },
  {
   "cell_type": "code",
   "execution_count": null,
   "id": "d2ae5f45",
   "metadata": {},
   "outputs": [],
   "source": [
    "video_ids= get_video_ids(youtube, playlist_id)"
   ]
  },
  {
   "cell_type": "code",
   "execution_count": null,
   "id": "7c9bcc71",
   "metadata": {},
   "outputs": [],
   "source": [
    "video_ids"
   ]
  },
  {
   "cell_type": "markdown",
   "id": "db0fdbc5",
   "metadata": {},
   "source": [
    "## Function to get video details"
   ]
  },
  {
   "cell_type": "code",
   "execution_count": null,
   "id": "6c4944ef",
   "metadata": {},
   "outputs": [],
   "source": [
    "def get_video_details(youtube, video_ids):\n",
    "    all_video_stats =[]\n",
    "    for i in range(0,len(video_ids),50):\n",
    "        request = youtube.videos().list(\n",
    "         part = 'snippet, statistics',\n",
    "            id = ','.join(video_ids[i:i+50]))\n",
    "        response = request.execute()\n",
    "\n",
    "        for video in response['items']:\n",
    "            video_stats = dict(Title= video['snippet']['title'],\n",
    "                               published_date = video['snippet'] ['publishedAt'],\n",
    "                               views = video['statistics'] ['viewCount'],\n",
    "                               likes = video['statistics'] ['likeCount'],\n",
    "                            #    dislikes = video['statistics'] ['dislikeCount'], #This API has been revoked by YT since dec 2021\n",
    "                               comments = video['statistics'] ['commentCount'])\n",
    "            all_video_stats.append(video_stats)\n",
    "    return all_video_stats"
   ]
  },
  {
   "cell_type": "code",
   "execution_count": null,
   "id": "d023b570",
   "metadata": {},
   "outputs": [],
   "source": [
    "video_details= get_video_details(youtube, video_ids)"
   ]
  },
  {
   "cell_type": "code",
   "execution_count": null,
   "id": "08561835",
   "metadata": {},
   "outputs": [],
   "source": [
    "video_data = pd.DataFrame(video_details)"
   ]
  },
  {
   "cell_type": "markdown",
   "id": "029b3f6d",
   "metadata": {},
   "source": [
    "### Converting Data Types"
   ]
  },
  {
   "cell_type": "code",
   "execution_count": null,
   "id": "9b586574",
   "metadata": {},
   "outputs": [],
   "source": [
    "video_data['published_date']= pd.to_datetime(video_data['published_date']).dt.date\n",
    "video_data['views']= pd.to_numeric(video_data['views'])\n",
    "video_data['likes']= pd.to_numeric(video_data['likes'])\n",
    "video_data['comments']= pd.to_numeric(video_data['comments'])"
   ]
  },
  {
   "cell_type": "markdown",
   "id": "0b52cb44",
   "metadata": {},
   "source": [
    "### Top 5 Videos"
   ]
  },
  {
   "cell_type": "code",
   "execution_count": null,
   "id": "c4d57082",
   "metadata": {},
   "outputs": [],
   "source": [
    "top_5_videos = video_data.sort_values(by='views', ascending=False).head()"
   ]
  },
  {
   "cell_type": "code",
   "execution_count": null,
   "id": "43df7d56",
   "metadata": {},
   "outputs": [],
   "source": [
    "top_5_videos"
   ]
  },
  {
   "cell_type": "markdown",
   "id": "f31cfc53",
   "metadata": {},
   "source": [
    "### Top 5 Videos- BarPlot"
   ]
  },
  {
   "cell_type": "code",
   "execution_count": null,
   "id": "4ffa50da",
   "metadata": {},
   "outputs": [],
   "source": [
    "top_5_videos_barchart = sns.barplot(x='views', y= 'Title', data=top_5_videos, palette=\"pastel\")"
   ]
  },
  {
   "cell_type": "markdown",
   "id": "4e322e2a",
   "metadata": {},
   "source": [
    "### Converting Data Types"
   ]
  },
  {
   "cell_type": "code",
   "execution_count": null,
   "id": "b5c44f86",
   "metadata": {},
   "outputs": [],
   "source": [
    "video_data['month']= pd.to_datetime(video_data['published_date']).dt.strftime('%b')"
   ]
  },
  {
   "cell_type": "code",
   "execution_count": null,
   "id": "fd4cb11f",
   "metadata": {},
   "outputs": [],
   "source": [
    "video_data"
   ]
  },
  {
   "cell_type": "markdown",
   "id": "cf0c9e9d",
   "metadata": {},
   "source": [
    "### Grouping Videos by Months"
   ]
  },
  {
   "cell_type": "code",
   "execution_count": null,
   "id": "a2b6e513",
   "metadata": {},
   "outputs": [],
   "source": [
    "videos_per_month= video_data.groupby('month', as_index=False).size()"
   ]
  },
  {
   "cell_type": "code",
   "execution_count": null,
   "id": "6b8b1db2",
   "metadata": {},
   "outputs": [],
   "source": [
    "videos_per_month"
   ]
  },
  {
   "cell_type": "markdown",
   "id": "6bc97693",
   "metadata": {},
   "source": [
    "### Sorting Month Order"
   ]
  },
  {
   "cell_type": "code",
   "execution_count": null,
   "id": "bd6d03d4",
   "metadata": {},
   "outputs": [],
   "source": [
    "sort_order= ['Jan', 'Feb', 'Mar', 'Apr', 'May', 'Jun', 'Jul', 'Aug', 'Sep', 'Oct', 'Nov', 'Dec']\n"
   ]
  },
  {
   "cell_type": "code",
   "execution_count": null,
   "id": "c936dd18",
   "metadata": {},
   "outputs": [],
   "source": [
    "videos_per_month.index = pd.CategoricalIndex(videos_per_month['month'], categories= sort_order, ordered=True)"
   ]
  },
  {
   "cell_type": "code",
   "execution_count": null,
   "id": "94231fff",
   "metadata": {},
   "outputs": [],
   "source": [
    "videos_per_month= videos_per_month.sort_index()"
   ]
  },
  {
   "cell_type": "markdown",
   "id": "7f84ac70",
   "metadata": {},
   "source": [
    "### Videos by Month - BarPlot"
   ]
  },
  {
   "cell_type": "code",
   "execution_count": null,
   "id": "daf3ca38",
   "metadata": {},
   "outputs": [],
   "source": [
    "\n",
    "videos_per_month_barplot= sns.barplot(x='month', y='size', data=videos_per_month, palette=\"pastel\")"
   ]
  },
  {
   "cell_type": "markdown",
   "id": "f329e6ae",
   "metadata": {},
   "source": [
    "## Creating CSV file"
   ]
  },
  {
   "cell_type": "code",
   "execution_count": null,
   "id": "ed06c9e1",
   "metadata": {},
   "outputs": [],
   "source": [
    "video_data.to_csv('Video Details(Ken Jee).csv')"
   ]
  },
  {
   "cell_type": "code",
   "execution_count": null,
   "id": "034f5178",
   "metadata": {},
   "outputs": [],
   "source": []
  }
 ],
 "metadata": {
  "kernelspec": {
   "display_name": "base",
   "language": "python",
   "name": "python3"
  },
  "language_info": {
   "codemirror_mode": {
    "name": "ipython",
    "version": 3
   },
   "file_extension": ".py",
   "mimetype": "text/x-python",
   "name": "python",
   "nbconvert_exporter": "python",
   "pygments_lexer": "ipython3",
   "version": "3.12.7"
  }
 },
 "nbformat": 4,
 "nbformat_minor": 5
}
